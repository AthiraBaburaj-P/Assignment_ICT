{
 "cells": [
  {
   "cell_type": "code",
   "execution_count": null,
   "metadata": {
    "id": "I84re3h-Vsxr"
   },
   "outputs": [],
   "source": [
    "import pandas as pd\n",
    "import numpy as np\n",
    "import matplotlib.pyplot as plt\n",
    "import seaborn as sns"
   ]
  },
  {
   "cell_type": "code",
   "execution_count": null,
   "metadata": {
    "id": "I8z1Gb2YafIj"
   },
   "outputs": [],
   "source": [
    "data= pd.read_csv(r\"C:\\Users\\user\\Downloads\\titanic_dataset.csv\")"
   ]
  },
  {
   "cell_type": "code",
   "execution_count": null,
   "metadata": {
    "colab": {
     "base_uri": "https://localhost:8080/",
     "height": 320
    },
    "id": "vEeXKM-AalxQ",
    "outputId": "b1997a46-b7b1-4b3b-a52b-3926b65b9766"
   },
   "outputs": [],
   "source": [
    "data.head()"
   ]
  },
  {
   "cell_type": "code",
   "execution_count": null,
   "metadata": {
    "colab": {
     "base_uri": "https://localhost:8080/"
    },
    "id": "je9Ddp5hh72s",
    "outputId": "d59ae119-0887-478d-9d63-f82abc602d6e"
   },
   "outputs": [],
   "source": [
    "data.isna().sum()"
   ]
  },
  {
   "cell_type": "code",
   "execution_count": null,
   "metadata": {
    "id": "5eBU31gcjO4X"
   },
   "outputs": [],
   "source": [
    "data['Age'] = data['Age'].fillna((data['Age'].median()))"
   ]
  },
  {
   "cell_type": "code",
   "execution_count": null,
   "metadata": {
    "id": "Q8ol7onmjnQ1"
   },
   "outputs": [],
   "source": [
    "data['Embarked'] = data['Embarked'].replace(np.nan, 0)"
   ]
  },
  {
   "cell_type": "code",
   "execution_count": null,
   "metadata": {
    "id": "274uj_g2jxnM"
   },
   "outputs": [],
   "source": [
    "data=data.drop(labels = [\"Cabin\",'Name'], axis=1)"
   ]
  },
  {
   "cell_type": "code",
   "execution_count": null,
   "metadata": {
    "colab": {
     "base_uri": "https://localhost:8080/"
    },
    "id": "s1MhJq9Mj1bB",
    "outputId": "651c121d-c669-4f03-a3e4-62f25b599aa6"
   },
   "outputs": [],
   "source": [
    "data.shape"
   ]
  },
  {
   "cell_type": "code",
   "execution_count": null,
   "metadata": {
    "id": "vMCKBcyKkmu2"
   },
   "outputs": [],
   "source": [
    "from sklearn.preprocessing import LabelEncoder\n",
    "le = LabelEncoder()\n",
    "data['Sex'] = le.fit_transform(data['Sex'])"
   ]
  },
  {
   "cell_type": "code",
   "execution_count": null,
   "metadata": {
    "id": "MTs9yRAbmU3E"
   },
   "outputs": [],
   "source": [
    "data = pd.get_dummies(data)"
   ]
  },
  {
   "cell_type": "code",
   "execution_count": null,
   "metadata": {
    "colab": {
     "base_uri": "https://localhost:8080/",
     "height": 317
    },
    "id": "L6MFlh0Omifc",
    "outputId": "8d738cbd-d8b8-4a56-df11-0822ada0c61d"
   },
   "outputs": [],
   "source": [
    "data.head()"
   ]
  },
  {
   "cell_type": "code",
   "execution_count": null,
   "metadata": {
    "id": "-OUn_FI-mjnE"
   },
   "outputs": [],
   "source": [
    "## KNN"
   ]
  },
  {
   "cell_type": "code",
   "execution_count": null,
   "metadata": {
    "id": "X8R9Hur2nN1k"
   },
   "outputs": [],
   "source": [
    "from sklearn.neighbors import KNeighborsClassifier"
   ]
  },
  {
   "cell_type": "code",
   "execution_count": null,
   "metadata": {
    "id": "7KGiKuminO1c"
   },
   "outputs": [],
   "source": [
    "x = data.drop(['Survived'],axis=1)\n",
    "y= data['Survived']"
   ]
  },
  {
   "cell_type": "code",
   "execution_count": null,
   "metadata": {
    "id": "KdGl8owrnixo"
   },
   "outputs": [],
   "source": [
    "from sklearn.model_selection import train_test_split\n",
    "x_train, x_test, y_train, y_test = train_test_split (x,y,test_size = 0.2, random_state=42)"
   ]
  },
  {
   "cell_type": "code",
   "execution_count": null,
   "metadata": {
    "id": "Il2J9nX_nlyj"
   },
   "outputs": [],
   "source": [
    "metric_k =[]\n",
    "neighbors =np.arange(3,15)"
   ]
  },
  {
   "cell_type": "code",
   "execution_count": null,
   "metadata": {
    "id": "TT7newtHnzZl"
   },
   "outputs": [],
   "source": [
    "from sklearn.metrics import confusion_matrix,accuracy_score, precision_score, recall_score, f1_score"
   ]
  },
  {
   "cell_type": "code",
   "execution_count": null,
   "metadata": {
    "id": "7g2Ygf2Wnp1R"
   },
   "outputs": [],
   "source": [
    "for k in neighbors:\n",
    "    classifier =KNeighborsClassifier(n_neighbors = k, metric ='euclidean')\n",
    "    classifier.fit(x_train, y_train)\n",
    "    y_prediction =classifier.predict(x_test)\n",
    "    acc = accuracy_score(y_test,y_prediction)\n",
    "    metric_k.append(acc)"
   ]
  },
  {
   "cell_type": "code",
   "execution_count": null,
   "metadata": {
    "colab": {
     "base_uri": "https://localhost:8080/"
    },
    "id": "_ybvTW-coaa4",
    "outputId": "14088b04-63e8-4b5d-ed84-bd3ae82ac96c"
   },
   "outputs": [],
   "source": [
    "metric_k"
   ]
  },
  {
   "cell_type": "code",
   "execution_count": null,
   "metadata": {
    "colab": {
     "base_uri": "https://localhost:8080/",
     "height": 449
    },
    "id": "JujI4hp9oc9b",
    "outputId": "aad3b1d6-bd1c-4e1e-b280-851bece2005b"
   },
   "outputs": [],
   "source": [
    "plt.plot(neighbors,metric_k,'o-')\n",
    "plt.xlabel('k')\n",
    "plt.ylabel('Accuracy')\n",
    "plt.grid()"
   ]
  },
  {
   "cell_type": "code",
   "execution_count": null,
   "metadata": {
    "id": "7WLuDx40orop"
   },
   "outputs": [],
   "source": [
    "classifier =KNeighborsClassifier(n_neighbors = 6, metric ='euclidean')\n",
    "classifier.fit(x_train, y_train)\n",
    "y_prediction =classifier.predict(x_test)"
   ]
  },
  {
   "cell_type": "code",
   "execution_count": null,
   "metadata": {
    "colab": {
     "base_uri": "https://localhost:8080/"
    },
    "id": "fpIsUxsxntMQ",
    "outputId": "1acd0ab4-057f-4857-a93e-11638c3a0204"
   },
   "outputs": [],
   "source": [
    "print('Accuracy = ',accuracy_score(y_test,y_prediction))\n",
    "print('Precision = ',precision_score(y_test,y_prediction))\n",
    "print('Recall = ',recall_score(y_test,y_prediction))\n",
    "print('F1 Score = ',f1_score(y_test,y_prediction))\n",
    "confusion_matrix(y_test,y_prediction)"
   ]
  },
  {
   "cell_type": "code",
   "execution_count": null,
   "metadata": {
    "id": "s0hFU9Bkrjwe"
   },
   "outputs": [],
   "source": [
    "## K fold validation"
   ]
  },
  {
   "cell_type": "code",
   "execution_count": null,
   "metadata": {
    "colab": {
     "base_uri": "https://localhost:8080/"
    },
    "id": "lyazXahmoyri",
    "outputId": "6009a717-8e6c-41a1-ab9e-2f59b76f7896"
   },
   "outputs": [],
   "source": [
    "from sklearn.model_selection import KFold\n",
    "kfold_validator = KFold(10)\n",
    "for train_index, test_index in kfold_validator.split(x,y):\n",
    "    print('Training index', train_index)\n",
    "    print('test index', test_index)"
   ]
  },
  {
   "cell_type": "code",
   "execution_count": null,
   "metadata": {
    "id": "8ASGz1JspnRK"
   },
   "outputs": [],
   "source": [
    "from sklearn.model_selection import cross_val_score\n",
    "cv_result = cross_val_score (classifier,x,y,cv = kfold_validator)"
   ]
  },
  {
   "cell_type": "code",
   "execution_count": null,
   "metadata": {
    "colab": {
     "base_uri": "https://localhost:8080/"
    },
    "id": "BlXzDkZsp3TK",
    "outputId": "eb3fdfbd-ce6b-4f81-924e-e8be634ba7fd"
   },
   "outputs": [],
   "source": [
    "cv_result"
   ]
  },
  {
   "cell_type": "code",
   "execution_count": null,
   "metadata": {
    "colab": {
     "base_uri": "https://localhost:8080/"
    },
    "id": "KSYsvEXqp6Ha",
    "outputId": "364a0e42-d9fe-431f-d45f-4ee069177aa4"
   },
   "outputs": [],
   "source": [
    "np.mean(cv_result)"
   ]
  },
  {
   "cell_type": "code",
   "execution_count": null,
   "metadata": {
    "id": "U6JAeC30qEt3"
   },
   "outputs": [],
   "source": [
    "## Stratified validation"
   ]
  },
  {
   "cell_type": "code",
   "execution_count": null,
   "metadata": {
    "id": "47ctk2glp8pS"
   },
   "outputs": [],
   "source": [
    "from sklearn.model_selection import StratifiedKFold\n",
    "skfold_validator = StratifiedKFold(n_splits = 10)"
   ]
  },
  {
   "cell_type": "code",
   "execution_count": null,
   "metadata": {
    "colab": {
     "base_uri": "https://localhost:8080/"
    },
    "id": "cP41WSKpqIKi",
    "outputId": "b39e19ad-a3eb-472a-82ec-a071b26058dd"
   },
   "outputs": [],
   "source": [
    "for train_index, test_index in skfold_validator.split(x,y):\n",
    "    print('Training index', train_index)\n",
    "    print('test index', test_index)"
   ]
  },
  {
   "cell_type": "code",
   "execution_count": null,
   "metadata": {
    "id": "P-_filXpqKoK"
   },
   "outputs": [],
   "source": [
    "cv_result =cross_val_score(classifier,x,y,cv = skfold_validator)"
   ]
  },
  {
   "cell_type": "code",
   "execution_count": null,
   "metadata": {
    "colab": {
     "base_uri": "https://localhost:8080/"
    },
    "id": "DzqeT7wUqQsK",
    "outputId": "8dea05b1-428b-40c2-a0cd-c368c2543b96"
   },
   "outputs": [],
   "source": [
    "cv_result"
   ]
  },
  {
   "cell_type": "code",
   "execution_count": null,
   "metadata": {
    "colab": {
     "base_uri": "https://localhost:8080/"
    },
    "id": "G-p6qtaRqSr6",
    "outputId": "d0dd4f97-3995-45de-db74-6fce3808f1ce"
   },
   "outputs": [],
   "source": [
    "np.mean(cv_result)"
   ]
  },
  {
   "cell_type": "code",
   "execution_count": null,
   "metadata": {
    "id": "P91czd9vqUVy"
   },
   "outputs": [],
   "source": [
    "## SVM model"
   ]
  },
  {
   "cell_type": "code",
   "execution_count": null,
   "metadata": {
    "colab": {
     "base_uri": "https://localhost:8080/",
     "height": 75
    },
    "id": "eFjNFW7zrGPy",
    "outputId": "55ec8775-c631-46a9-c7d7-d3b70050769f"
   },
   "outputs": [],
   "source": [
    "from sklearn.svm import SVC\n",
    "svmclf = SVC()\n",
    "svmclf.fit(x_train,y_train)"
   ]
  },
  {
   "cell_type": "code",
   "execution_count": null,
   "metadata": {
    "id": "d9y8xDKfrGyR"
   },
   "outputs": [],
   "source": [
    "y_pred = svmclf.predict(x_test)"
   ]
  },
  {
   "cell_type": "code",
   "execution_count": null,
   "metadata": {
    "colab": {
     "base_uri": "https://localhost:8080/"
    },
    "id": "DaqXvIqgrK9x",
    "outputId": "0316965b-2570-477c-fecc-76597ebcf892"
   },
   "outputs": [],
   "source": [
    "print('Accuracy is ',accuracy_score(y_test,y_pred))"
   ]
  },
  {
   "cell_type": "code",
   "execution_count": null,
   "metadata": {
    "colab": {
     "base_uri": "https://localhost:8080/"
    },
    "id": "r4LfL7gIrN9J",
    "outputId": "455e25df-9437-4c5a-c854-0e915d1d9d16"
   },
   "outputs": [],
   "source": [
    "print(confusion_matrix(y_test,y_pred))"
   ]
  },
  {
   "cell_type": "code",
   "execution_count": null,
   "metadata": {
    "colab": {
     "base_uri": "https://localhost:8080/"
    },
    "id": "3xROIrFwrSwz",
    "outputId": "a31dc6c5-3ab5-410f-b381-325d74d4a74d"
   },
   "outputs": [],
   "source": [
    "kfold_validator = KFold(10)\n",
    "for train_index, test_index in kfold_validator.split(x,y):\n",
    "    print('Training index', train_index)\n",
    "    print('test index', test_index)"
   ]
  },
  {
   "cell_type": "code",
   "execution_count": null,
   "metadata": {
    "id": "_TBeXTcgrsz_"
   },
   "outputs": [],
   "source": [
    "from sklearn.model_selection import cross_val_score\n",
    "cv_result = cross_val_score (svmclf,x,y,cv = kfold_validator)"
   ]
  },
  {
   "cell_type": "code",
   "execution_count": null,
   "metadata": {
    "colab": {
     "base_uri": "https://localhost:8080/"
    },
    "id": "l5F746xrrzVy",
    "outputId": "d813ec77-0f16-43a9-b63b-0711fb494e12"
   },
   "outputs": [],
   "source": [
    "cv_result"
   ]
  },
  {
   "cell_type": "code",
   "execution_count": null,
   "metadata": {
    "colab": {
     "base_uri": "https://localhost:8080/"
    },
    "id": "-Wf3i-TdsAtC",
    "outputId": "077f1392-5df4-4ee7-e0f3-51bcf0a7e172"
   },
   "outputs": [],
   "source": [
    "np.mean(cv_result)"
   ]
  },
  {
   "cell_type": "code",
   "execution_count": null,
   "metadata": {
    "id": "LmJW-DB8sG7S"
   },
   "outputs": [],
   "source": [
    "## Stratified Cross validation"
   ]
  },
  {
   "cell_type": "code",
   "execution_count": null,
   "metadata": {
    "colab": {
     "base_uri": "https://localhost:8080/"
    },
    "id": "r8HUkAgdsJgy",
    "outputId": "f34ba013-eee7-466e-cbaa-20bb1bde3256"
   },
   "outputs": [],
   "source": [
    "skfold_validator = StratifiedKFold(n_splits = 10)\n",
    "for train_index, test_index in skfold_validator.split(x,y):\n",
    "    print('Training index', train_index)\n",
    "    print('test index', test_index)"
   ]
  },
  {
   "cell_type": "code",
   "execution_count": null,
   "metadata": {
    "id": "GUHQC3iCsN5Z"
   },
   "outputs": [],
   "source": [
    "cv_result =cross_val_score(svmclf,x,y,cv = skfold_validator)"
   ]
  },
  {
   "cell_type": "code",
   "execution_count": null,
   "metadata": {
    "colab": {
     "base_uri": "https://localhost:8080/"
    },
    "id": "Devma67gsagx",
    "outputId": "ca278857-9d37-45dc-e1bd-9fd04f0e9c15"
   },
   "outputs": [],
   "source": [
    "cv_result"
   ]
  },
  {
   "cell_type": "code",
   "execution_count": null,
   "metadata": {
    "colab": {
     "base_uri": "https://localhost:8080/"
    },
    "id": "oDYj7DYHscaB",
    "outputId": "7897cf0f-dec6-4f99-be8d-57cb982efecd"
   },
   "outputs": [],
   "source": [
    "np.mean(cv_result)"
   ]
  },
  {
   "cell_type": "code",
   "execution_count": null,
   "metadata": {
    "id": "Rpi4qzudseJx"
   },
   "outputs": [],
   "source": []
  }
 ],
 "metadata": {
  "colab": {
   "provenance": []
  },
  "kernelspec": {
   "display_name": "Python 3",
   "language": "python",
   "name": "python3"
  },
  "language_info": {
   "codemirror_mode": {
    "name": "ipython",
    "version": 3
   },
   "file_extension": ".py",
   "mimetype": "text/x-python",
   "name": "python",
   "nbconvert_exporter": "python",
   "pygments_lexer": "ipython3",
   "version": "3.7.6"
  }
 },
 "nbformat": 4,
 "nbformat_minor": 1
}
